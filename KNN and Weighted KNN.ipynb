{
 "cells": [
  {
   "cell_type": "code",
   "execution_count": 154,
   "id": "00466b56",
   "metadata": {},
   "outputs": [
    {
     "name": "stdout",
     "output_type": "stream",
     "text": [
      "      name  age  gender     sport\n",
      "0     ajay   32       0  football\n",
      "1     mark   40       0   neither\n",
      "2     sara   16       1   cricket\n",
      "3    zaira   34       1   cricket\n",
      "4   sachin   55       0   neither\n",
      "5    rahul   40       0   cricket\n",
      "6    pooja   20       1   neither\n",
      "7    smith   15       0   cricket\n",
      "8    laxmi   55       1  football\n",
      "9  michael   15       0  football\n"
     ]
    }
   ],
   "source": [
    "\n",
    "###KNN\n",
    "import pandas as pd \n",
    "dict={ 'name':[\"ajay\",\"mark\",\"sara\",\"zaira\",\"sachin\",\"rahul\",\"pooja\",\"smith\",\"laxmi\",\"michael\"],\n",
    "     'age':[32,40,16,34,55,40,20,15,55,15],\n",
    "     'gender':[0,0,1,1,0,0,1,0,1,0],\n",
    "      'sport':[\"football\",\"neither\",\"cricket\",\"cricket\",\"neither\",\"cricket\",\"neither\",\"cricket\",\"football\",\"football\"]\n",
    "     }\n",
    "df=pd.DataFrame(dict)\n",
    "\n",
    "print(df)\n"
   ]
  },
  {
   "cell_type": "code",
   "execution_count": 155,
   "id": "7db51c1b",
   "metadata": {},
   "outputs": [
    {
     "name": "stdout",
     "output_type": "stream",
     "text": [
      "       name  age  gender sport\n",
      "0  angelina    5       1     ?\n"
     ]
    }
   ],
   "source": [
    "find={'name':[\"angelina\"],\n",
    "     'age':[5],\n",
    "     'gender':[1],'sport':[\"?\"]}\n",
    "df1=pd.DataFrame(find)\n",
    "print(df1)"
   ]
  },
  {
   "cell_type": "code",
   "execution_count": 156,
   "id": "f98adf66",
   "metadata": {},
   "outputs": [
    {
     "name": "stdout",
     "output_type": "stream",
     "text": [
      "[32 40 16 34 55 40 20 15 55 15]\n",
      "[0 0 1 1 0 0 1 0 1 0]\n"
     ]
    }
   ],
   "source": [
    "import numpy as np\n",
    "import math\n",
    "age_column = df.loc[:,'age']\n",
    "age = age_column.values\n",
    "print(age)\n",
    "gender_column = df.loc[:,'gender']\n",
    "gender = gender_column.values\n",
    "print(gender)\n"
   ]
  },
  {
   "cell_type": "code",
   "execution_count": 157,
   "id": "43be48f5",
   "metadata": {},
   "outputs": [
    {
     "name": "stdout",
     "output_type": "stream",
     "text": [
      "[27.018512172212592, 35.014282800023196, 11.0, 29.0, 50.00999900019995, 35.014282800023196, 15.0, 10.04987562112089, 50.0, 10.04987562112089]\n"
     ]
    }
   ],
   "source": [
    "arr = [None] * 10\n",
    "k=0\n",
    "for i in range(0, 10, 1):\n",
    "    arr1=age[i]-5\n",
    "    arr1=arr1*arr1\n",
    "    arr2=gender[i]-1\n",
    "    arr2=arr2*arr2\n",
    "    arr3=arr1+arr2\n",
    "    arr[k]=math.sqrt(arr3)\n",
    "    k+=1\n",
    "print(arr)    \n",
    "   \n",
    "    \n",
    "    \n",
    "   "
   ]
  },
  {
   "cell_type": "code",
   "execution_count": 158,
   "id": "e6f54633",
   "metadata": {},
   "outputs": [
    {
     "name": "stdout",
     "output_type": "stream",
     "text": [
      "First min =  10.04987562112089\n",
      "Second min =  10.04987562112089\n",
      "Third min =  11.0\n",
      "[10.04987562112089, 10.04987562112089, 11.0]\n"
     ]
    }
   ],
   "source": [
    "MAX = 100000\n",
    "k=3\n",
    "temp=[None]*3\n",
    "def Print3Smallest(arr, n):\n",
    "    firstmin = MAX\n",
    "    secmin = MAX\n",
    "    thirdmin = MAX\n",
    " \n",
    "    for i in range(0, n):\n",
    "         \n",
    "        \n",
    " \n",
    "        if arr[i] < firstmin:\n",
    "            thirdmin = secmin\n",
    "            secmin = firstmin\n",
    "            firstmin = arr[i]\n",
    " \n",
    "        \n",
    "        elif arr[i] < secmin:\n",
    "            thirdmin = secmin\n",
    "            secmin = arr[i]\n",
    " \n",
    "       \n",
    "        elif arr[i] < thirdmin:\n",
    "            thirdmin = arr[i]\n",
    " \n",
    "    print(\"First min = \", firstmin)\n",
    "    print(\"Second min = \", secmin)\n",
    "    print(\"Third min = \", thirdmin)\n",
    "\n",
    "    temp[0]=firstmin\n",
    "    temp[1]=secmin\n",
    "    temp[2]=thirdmin\n",
    "    print(temp)  \n",
    " \n",
    "n = len(arr)\n",
    "Print3Smallest(arr, n)\n",
    "\n"
   ]
  },
  {
   "cell_type": "code",
   "execution_count": 159,
   "id": "ccac090a",
   "metadata": {},
   "outputs": [
    {
     "data": {
      "text/html": [
       "<div>\n",
       "<style scoped>\n",
       "    .dataframe tbody tr th:only-of-type {\n",
       "        vertical-align: middle;\n",
       "    }\n",
       "\n",
       "    .dataframe tbody tr th {\n",
       "        vertical-align: top;\n",
       "    }\n",
       "\n",
       "    .dataframe thead th {\n",
       "        text-align: right;\n",
       "    }\n",
       "</style>\n",
       "<table border=\"1\" class=\"dataframe\">\n",
       "  <thead>\n",
       "    <tr style=\"text-align: right;\">\n",
       "      <th></th>\n",
       "      <th>name</th>\n",
       "      <th>age</th>\n",
       "      <th>gender</th>\n",
       "      <th>distance</th>\n",
       "      <th>sport</th>\n",
       "    </tr>\n",
       "  </thead>\n",
       "  <tbody>\n",
       "    <tr>\n",
       "      <th>0</th>\n",
       "      <td>ajay</td>\n",
       "      <td>32</td>\n",
       "      <td>0</td>\n",
       "      <td>27.018512</td>\n",
       "      <td>football</td>\n",
       "    </tr>\n",
       "    <tr>\n",
       "      <th>1</th>\n",
       "      <td>mark</td>\n",
       "      <td>40</td>\n",
       "      <td>0</td>\n",
       "      <td>35.014283</td>\n",
       "      <td>neither</td>\n",
       "    </tr>\n",
       "    <tr>\n",
       "      <th>2</th>\n",
       "      <td>sara</td>\n",
       "      <td>16</td>\n",
       "      <td>1</td>\n",
       "      <td>11.000000</td>\n",
       "      <td>cricket</td>\n",
       "    </tr>\n",
       "    <tr>\n",
       "      <th>3</th>\n",
       "      <td>zaira</td>\n",
       "      <td>34</td>\n",
       "      <td>1</td>\n",
       "      <td>29.000000</td>\n",
       "      <td>cricket</td>\n",
       "    </tr>\n",
       "    <tr>\n",
       "      <th>4</th>\n",
       "      <td>sachin</td>\n",
       "      <td>55</td>\n",
       "      <td>0</td>\n",
       "      <td>50.009999</td>\n",
       "      <td>neither</td>\n",
       "    </tr>\n",
       "    <tr>\n",
       "      <th>5</th>\n",
       "      <td>rahul</td>\n",
       "      <td>40</td>\n",
       "      <td>0</td>\n",
       "      <td>35.014283</td>\n",
       "      <td>cricket</td>\n",
       "    </tr>\n",
       "    <tr>\n",
       "      <th>6</th>\n",
       "      <td>pooja</td>\n",
       "      <td>20</td>\n",
       "      <td>1</td>\n",
       "      <td>15.000000</td>\n",
       "      <td>neither</td>\n",
       "    </tr>\n",
       "    <tr>\n",
       "      <th>7</th>\n",
       "      <td>smith</td>\n",
       "      <td>15</td>\n",
       "      <td>0</td>\n",
       "      <td>10.049876</td>\n",
       "      <td>cricket</td>\n",
       "    </tr>\n",
       "    <tr>\n",
       "      <th>8</th>\n",
       "      <td>laxmi</td>\n",
       "      <td>55</td>\n",
       "      <td>1</td>\n",
       "      <td>50.000000</td>\n",
       "      <td>football</td>\n",
       "    </tr>\n",
       "    <tr>\n",
       "      <th>9</th>\n",
       "      <td>michael</td>\n",
       "      <td>15</td>\n",
       "      <td>0</td>\n",
       "      <td>10.049876</td>\n",
       "      <td>football</td>\n",
       "    </tr>\n",
       "  </tbody>\n",
       "</table>\n",
       "</div>"
      ],
      "text/plain": [
       "      name  age  gender   distance     sport\n",
       "0     ajay   32       0  27.018512  football\n",
       "1     mark   40       0  35.014283   neither\n",
       "2     sara   16       1  11.000000   cricket\n",
       "3    zaira   34       1  29.000000   cricket\n",
       "4   sachin   55       0  50.009999   neither\n",
       "5    rahul   40       0  35.014283   cricket\n",
       "6    pooja   20       1  15.000000   neither\n",
       "7    smith   15       0  10.049876   cricket\n",
       "8    laxmi   55       1  50.000000  football\n",
       "9  michael   15       0  10.049876  football"
      ]
     },
     "execution_count": 159,
     "metadata": {},
     "output_type": "execute_result"
    }
   ],
   "source": [
    "df.insert(3,'distance',arr,True)\n",
    "df\n"
   ]
  },
  {
   "cell_type": "code",
   "execution_count": 160,
   "id": "e9a231e5",
   "metadata": {},
   "outputs": [
    {
     "data": {
      "text/html": [
       "<div>\n",
       "<style scoped>\n",
       "    .dataframe tbody tr th:only-of-type {\n",
       "        vertical-align: middle;\n",
       "    }\n",
       "\n",
       "    .dataframe tbody tr th {\n",
       "        vertical-align: top;\n",
       "    }\n",
       "\n",
       "    .dataframe thead th {\n",
       "        text-align: right;\n",
       "    }\n",
       "</style>\n",
       "<table border=\"1\" class=\"dataframe\">\n",
       "  <thead>\n",
       "    <tr style=\"text-align: right;\">\n",
       "      <th></th>\n",
       "      <th>name</th>\n",
       "      <th>age</th>\n",
       "      <th>gender</th>\n",
       "      <th>distance</th>\n",
       "      <th>sport</th>\n",
       "    </tr>\n",
       "  </thead>\n",
       "  <tbody>\n",
       "    <tr>\n",
       "      <th>2</th>\n",
       "      <td>sara</td>\n",
       "      <td>16</td>\n",
       "      <td>1</td>\n",
       "      <td>11.000000</td>\n",
       "      <td>cricket</td>\n",
       "    </tr>\n",
       "    <tr>\n",
       "      <th>7</th>\n",
       "      <td>smith</td>\n",
       "      <td>15</td>\n",
       "      <td>0</td>\n",
       "      <td>10.049876</td>\n",
       "      <td>cricket</td>\n",
       "    </tr>\n",
       "    <tr>\n",
       "      <th>9</th>\n",
       "      <td>michael</td>\n",
       "      <td>15</td>\n",
       "      <td>0</td>\n",
       "      <td>10.049876</td>\n",
       "      <td>football</td>\n",
       "    </tr>\n",
       "  </tbody>\n",
       "</table>\n",
       "</div>"
      ],
      "text/plain": [
       "      name  age  gender   distance     sport\n",
       "2     sara   16       1  11.000000   cricket\n",
       "7    smith   15       0  10.049876   cricket\n",
       "9  michael   15       0  10.049876  football"
      ]
     },
     "execution_count": 160,
     "metadata": {},
     "output_type": "execute_result"
    }
   ],
   "source": [
    "df.loc[(df['distance']==temp[0])|(df['distance']==temp[1])|(df['distance']==temp[2])]\n",
    "\n"
   ]
  },
  {
   "cell_type": "code",
   "execution_count": 161,
   "id": "495e615f",
   "metadata": {},
   "outputs": [
    {
     "data": {
      "text/plain": [
       "0    cricket\n",
       "dtype: object"
      ]
     },
     "execution_count": 161,
     "metadata": {},
     "output_type": "execute_result"
    }
   ],
   "source": [
    "a=df['sport'].loc[(df['distance']==temp[0])|(df['distance']==temp[1])|(df['distance']==temp[2])].mode()\n",
    "a\n",
    "###Required answer for KNN is the mode"
   ]
  },
  {
   "cell_type": "code",
   "execution_count": 162,
   "id": "e75c60e5",
   "metadata": {},
   "outputs": [],
   "source": [
    "###WEIGHTED KNN"
   ]
  },
  {
   "cell_type": "code",
   "execution_count": 163,
   "id": "9df37017",
   "metadata": {},
   "outputs": [
    {
     "data": {
      "text/html": [
       "<div>\n",
       "<style scoped>\n",
       "    .dataframe tbody tr th:only-of-type {\n",
       "        vertical-align: middle;\n",
       "    }\n",
       "\n",
       "    .dataframe tbody tr th {\n",
       "        vertical-align: top;\n",
       "    }\n",
       "\n",
       "    .dataframe thead th {\n",
       "        text-align: right;\n",
       "    }\n",
       "</style>\n",
       "<table border=\"1\" class=\"dataframe\">\n",
       "  <thead>\n",
       "    <tr style=\"text-align: right;\">\n",
       "      <th></th>\n",
       "      <th>name</th>\n",
       "      <th>age</th>\n",
       "      <th>gender</th>\n",
       "      <th>distance</th>\n",
       "      <th>sport</th>\n",
       "    </tr>\n",
       "  </thead>\n",
       "  <tbody>\n",
       "    <tr>\n",
       "      <th>2</th>\n",
       "      <td>sara</td>\n",
       "      <td>16</td>\n",
       "      <td>1</td>\n",
       "      <td>11.000000</td>\n",
       "      <td>cricket</td>\n",
       "    </tr>\n",
       "    <tr>\n",
       "      <th>7</th>\n",
       "      <td>smith</td>\n",
       "      <td>15</td>\n",
       "      <td>0</td>\n",
       "      <td>10.049876</td>\n",
       "      <td>cricket</td>\n",
       "    </tr>\n",
       "    <tr>\n",
       "      <th>9</th>\n",
       "      <td>michael</td>\n",
       "      <td>15</td>\n",
       "      <td>0</td>\n",
       "      <td>10.049876</td>\n",
       "      <td>football</td>\n",
       "    </tr>\n",
       "  </tbody>\n",
       "</table>\n",
       "</div>"
      ],
      "text/plain": [
       "      name  age  gender   distance     sport\n",
       "2     sara   16       1  11.000000   cricket\n",
       "7    smith   15       0  10.049876   cricket\n",
       "9  michael   15       0  10.049876  football"
      ]
     },
     "execution_count": 163,
     "metadata": {},
     "output_type": "execute_result"
    }
   ],
   "source": [
    "df.loc[(df['distance']==temp[0])|(df['distance']==temp[1])|(df['distance']==temp[2])]\n"
   ]
  },
  {
   "cell_type": "code",
   "execution_count": 164,
   "id": "7a027195",
   "metadata": {},
   "outputs": [
    {
     "name": "stdout",
     "output_type": "stream",
     "text": [
      "0.09950371902099892\n",
      "0.09950371902099892\n",
      "0.09090909090909091\n"
     ]
    }
   ],
   "source": [
    "w = [None] * 3\n",
    "w[0]=1/temp[0]\n",
    "w[1]=1/temp[1]\n",
    "w[2]=1/temp[2]\n",
    "print(w[0])\n",
    "print(w[1])\n",
    "print(w[2])"
   ]
  },
  {
   "cell_type": "code",
   "execution_count": 165,
   "id": "d80646b7",
   "metadata": {},
   "outputs": [
    {
     "name": "stdout",
     "output_type": "stream",
     "text": [
      "[0.037011660509880265, 0.02855977389887699, 0.09090909090909091, 0.034482758620689655, 0.01999600119960014, 0.02855977389887699, 0.06666666666666667, 0.09950371902099892, 0.02, 0.09950371902099892]\n"
     ]
    },
    {
     "data": {
      "text/html": [
       "<div>\n",
       "<style scoped>\n",
       "    .dataframe tbody tr th:only-of-type {\n",
       "        vertical-align: middle;\n",
       "    }\n",
       "\n",
       "    .dataframe tbody tr th {\n",
       "        vertical-align: top;\n",
       "    }\n",
       "\n",
       "    .dataframe thead th {\n",
       "        text-align: right;\n",
       "    }\n",
       "</style>\n",
       "<table border=\"1\" class=\"dataframe\">\n",
       "  <thead>\n",
       "    <tr style=\"text-align: right;\">\n",
       "      <th></th>\n",
       "      <th>name</th>\n",
       "      <th>age</th>\n",
       "      <th>gender</th>\n",
       "      <th>distance</th>\n",
       "      <th>weight</th>\n",
       "      <th>sport</th>\n",
       "    </tr>\n",
       "  </thead>\n",
       "  <tbody>\n",
       "    <tr>\n",
       "      <th>0</th>\n",
       "      <td>ajay</td>\n",
       "      <td>32</td>\n",
       "      <td>0</td>\n",
       "      <td>27.018512</td>\n",
       "      <td>0.037012</td>\n",
       "      <td>football</td>\n",
       "    </tr>\n",
       "    <tr>\n",
       "      <th>1</th>\n",
       "      <td>mark</td>\n",
       "      <td>40</td>\n",
       "      <td>0</td>\n",
       "      <td>35.014283</td>\n",
       "      <td>0.028560</td>\n",
       "      <td>neither</td>\n",
       "    </tr>\n",
       "    <tr>\n",
       "      <th>2</th>\n",
       "      <td>sara</td>\n",
       "      <td>16</td>\n",
       "      <td>1</td>\n",
       "      <td>11.000000</td>\n",
       "      <td>0.090909</td>\n",
       "      <td>cricket</td>\n",
       "    </tr>\n",
       "    <tr>\n",
       "      <th>3</th>\n",
       "      <td>zaira</td>\n",
       "      <td>34</td>\n",
       "      <td>1</td>\n",
       "      <td>29.000000</td>\n",
       "      <td>0.034483</td>\n",
       "      <td>cricket</td>\n",
       "    </tr>\n",
       "    <tr>\n",
       "      <th>4</th>\n",
       "      <td>sachin</td>\n",
       "      <td>55</td>\n",
       "      <td>0</td>\n",
       "      <td>50.009999</td>\n",
       "      <td>0.019996</td>\n",
       "      <td>neither</td>\n",
       "    </tr>\n",
       "    <tr>\n",
       "      <th>5</th>\n",
       "      <td>rahul</td>\n",
       "      <td>40</td>\n",
       "      <td>0</td>\n",
       "      <td>35.014283</td>\n",
       "      <td>0.028560</td>\n",
       "      <td>cricket</td>\n",
       "    </tr>\n",
       "    <tr>\n",
       "      <th>6</th>\n",
       "      <td>pooja</td>\n",
       "      <td>20</td>\n",
       "      <td>1</td>\n",
       "      <td>15.000000</td>\n",
       "      <td>0.066667</td>\n",
       "      <td>neither</td>\n",
       "    </tr>\n",
       "    <tr>\n",
       "      <th>7</th>\n",
       "      <td>smith</td>\n",
       "      <td>15</td>\n",
       "      <td>0</td>\n",
       "      <td>10.049876</td>\n",
       "      <td>0.099504</td>\n",
       "      <td>cricket</td>\n",
       "    </tr>\n",
       "    <tr>\n",
       "      <th>8</th>\n",
       "      <td>laxmi</td>\n",
       "      <td>55</td>\n",
       "      <td>1</td>\n",
       "      <td>50.000000</td>\n",
       "      <td>0.020000</td>\n",
       "      <td>football</td>\n",
       "    </tr>\n",
       "    <tr>\n",
       "      <th>9</th>\n",
       "      <td>michael</td>\n",
       "      <td>15</td>\n",
       "      <td>0</td>\n",
       "      <td>10.049876</td>\n",
       "      <td>0.099504</td>\n",
       "      <td>football</td>\n",
       "    </tr>\n",
       "  </tbody>\n",
       "</table>\n",
       "</div>"
      ],
      "text/plain": [
       "      name  age  gender   distance    weight     sport\n",
       "0     ajay   32       0  27.018512  0.037012  football\n",
       "1     mark   40       0  35.014283  0.028560   neither\n",
       "2     sara   16       1  11.000000  0.090909   cricket\n",
       "3    zaira   34       1  29.000000  0.034483   cricket\n",
       "4   sachin   55       0  50.009999  0.019996   neither\n",
       "5    rahul   40       0  35.014283  0.028560   cricket\n",
       "6    pooja   20       1  15.000000  0.066667   neither\n",
       "7    smith   15       0  10.049876  0.099504   cricket\n",
       "8    laxmi   55       1  50.000000  0.020000  football\n",
       "9  michael   15       0  10.049876  0.099504  football"
      ]
     },
     "execution_count": 165,
     "metadata": {},
     "output_type": "execute_result"
    }
   ],
   "source": [
    "weight=[None]*10\n",
    "k=0\n",
    "for i in range(0,10,1):\n",
    "    weight[k]=1/arr[k]\n",
    "    k+=1\n",
    "print(weight)    \n",
    "df.insert(4,'weight',weight,True)\n",
    "df"
   ]
  },
  {
   "cell_type": "code",
   "execution_count": 166,
   "id": "d429ef87",
   "metadata": {},
   "outputs": [
    {
     "data": {
      "text/html": [
       "<div>\n",
       "<style scoped>\n",
       "    .dataframe tbody tr th:only-of-type {\n",
       "        vertical-align: middle;\n",
       "    }\n",
       "\n",
       "    .dataframe tbody tr th {\n",
       "        vertical-align: top;\n",
       "    }\n",
       "\n",
       "    .dataframe thead th {\n",
       "        text-align: right;\n",
       "    }\n",
       "</style>\n",
       "<table border=\"1\" class=\"dataframe\">\n",
       "  <thead>\n",
       "    <tr style=\"text-align: right;\">\n",
       "      <th></th>\n",
       "      <th>name</th>\n",
       "      <th>age</th>\n",
       "      <th>gender</th>\n",
       "      <th>distance</th>\n",
       "      <th>weight</th>\n",
       "      <th>sport</th>\n",
       "    </tr>\n",
       "  </thead>\n",
       "  <tbody>\n",
       "    <tr>\n",
       "      <th>2</th>\n",
       "      <td>sara</td>\n",
       "      <td>16</td>\n",
       "      <td>1</td>\n",
       "      <td>11.000000</td>\n",
       "      <td>0.090909</td>\n",
       "      <td>cricket</td>\n",
       "    </tr>\n",
       "    <tr>\n",
       "      <th>7</th>\n",
       "      <td>smith</td>\n",
       "      <td>15</td>\n",
       "      <td>0</td>\n",
       "      <td>10.049876</td>\n",
       "      <td>0.099504</td>\n",
       "      <td>cricket</td>\n",
       "    </tr>\n",
       "    <tr>\n",
       "      <th>9</th>\n",
       "      <td>michael</td>\n",
       "      <td>15</td>\n",
       "      <td>0</td>\n",
       "      <td>10.049876</td>\n",
       "      <td>0.099504</td>\n",
       "      <td>football</td>\n",
       "    </tr>\n",
       "  </tbody>\n",
       "</table>\n",
       "</div>"
      ],
      "text/plain": [
       "      name  age  gender   distance    weight     sport\n",
       "2     sara   16       1  11.000000  0.090909   cricket\n",
       "7    smith   15       0  10.049876  0.099504   cricket\n",
       "9  michael   15       0  10.049876  0.099504  football"
      ]
     },
     "execution_count": 166,
     "metadata": {},
     "output_type": "execute_result"
    }
   ],
   "source": [
    "df.loc[(df['distance']==temp[0])|(df['distance']==temp[1])|(df['distance']==temp[2])]\n"
   ]
  },
  {
   "cell_type": "code",
   "execution_count": 168,
   "id": "8be6fca3",
   "metadata": {},
   "outputs": [],
   "source": [
    "array=df.loc[(df['distance']==temp[0])|(df['distance']==temp[1])|(df['distance']==temp[2])].to_numpy()\n"
   ]
  },
  {
   "cell_type": "code",
   "execution_count": 195,
   "id": "c64fc33d",
   "metadata": {},
   "outputs": [
    {
     "name": "stdout",
     "output_type": "stream",
     "text": [
      "sum of cricket weight 0.19041280993008983\n",
      "sum of football weight 0.09950371902099892\n",
      "0.19041280993008983\n"
     ]
    }
   ],
   "source": [
    "k=0\n",
    "sum1=0\n",
    "sum2=0\n",
    "\n",
    "for i in range(0,3,1):\n",
    "    if(array[k][5]==\"cricket\"):\n",
    "        sum1+=array[k][4]\n",
    "        k+=1\n",
    "    elif(array[k][5]==\"football\"):\n",
    "        sum2+=array[k][4] \n",
    "        k+=1\n",
    "        \n",
    "print(\"sum of cricket weight\",sum1)\n",
    "print(\"sum of football weight\",sum2)\n",
    "print(max(sum1,sum2))"
   ]
  },
  {
   "cell_type": "code",
   "execution_count": 196,
   "id": "ea5aa941",
   "metadata": {},
   "outputs": [],
   "source": [
    "###Sum which has the maximum value is our weighted KNN answer"
   ]
  },
  {
   "cell_type": "code",
   "execution_count": null,
   "id": "4b96a6a7",
   "metadata": {},
   "outputs": [],
   "source": []
  }
 ],
 "metadata": {
  "kernelspec": {
   "display_name": "Python 3",
   "language": "python",
   "name": "python3"
  },
  "language_info": {
   "codemirror_mode": {
    "name": "ipython",
    "version": 3
   },
   "file_extension": ".py",
   "mimetype": "text/x-python",
   "name": "python",
   "nbconvert_exporter": "python",
   "pygments_lexer": "ipython3",
   "version": "3.8.8"
  }
 },
 "nbformat": 4,
 "nbformat_minor": 5
}
